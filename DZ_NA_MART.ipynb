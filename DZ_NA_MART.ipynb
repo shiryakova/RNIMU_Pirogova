{
  "nbformat": 4,
  "nbformat_minor": 0,
  "metadata": {
    "colab": {
      "provenance": []
    },
    "kernelspec": {
      "name": "python3",
      "display_name": "Python 3"
    },
    "language_info": {
      "name": "python"
    }
  },
  "cells": [
    {
      "cell_type": "markdown",
      "source": [
        "**ЗАДАНИЕ 1**"
      ],
      "metadata": {
        "id": "pizzChvaY4jq"
      }
    },
    {
      "cell_type": "code",
      "execution_count": 2,
      "metadata": {
        "colab": {
          "base_uri": "https://localhost:8080/"
        },
        "id": "AexTj83YzVSX",
        "outputId": "c5027eab-9a7d-4cd5-a6d5-878a2d2a9176"
      },
      "outputs": [
        {
          "output_type": "stream",
          "name": "stdout",
          "text": [
            "Экземпляр создан!\n",
            "0\n",
            "Экземпляр создан!\n",
            "5\n"
          ]
        }
      ],
      "source": [
        "class SuperClass():\n",
        "\n",
        "    def __init__(self, num):\n",
        "        self.num = num\n",
        "\n",
        "    def get_num(self):\n",
        "        print(self.num)\n",
        "\n",
        "class SubClass(SuperClass):\n",
        "\n",
        "     def __init__(self, num=0):\n",
        "        super().__init__(num)\n",
        "        print('Экземпляр создан!')\n",
        "\n",
        "obj_1 = SubClass()\n",
        "\n",
        "print(obj_1.num)\n",
        "\n",
        "obj_2 = SubClass(5)\n",
        "\n",
        "obj_2.get_num()"
      ]
    },
    {
      "cell_type": "markdown",
      "source": [
        "**ЗАДАНИЕ 2**"
      ],
      "metadata": {
        "id": "EnYwnRJoZIhn"
      }
    },
    {
      "cell_type": "code",
      "source": [
        "class SimplePass:\n",
        "    pass\n",
        "\n",
        "simple_pass = SimplePass()\n",
        "\n",
        "print(type(simple_pass))"
      ],
      "metadata": {
        "colab": {
          "base_uri": "https://localhost:8080/"
        },
        "id": "FcyidzZc0h-u",
        "outputId": "cd2e5c23-8a7f-4c4b-c43e-2ef2b595e06f"
      },
      "execution_count": 3,
      "outputs": [
        {
          "output_type": "stream",
          "name": "stdout",
          "text": [
            "<class '__main__.SimplePass'>\n"
          ]
        }
      ]
    },
    {
      "cell_type": "markdown",
      "source": [
        "**ЗАДАНИЕ 3**"
      ],
      "metadata": {
        "id": "2B6GqepfZO8u"
      }
    },
    {
      "cell_type": "code",
      "source": [
        "class A:\n",
        "    '''Класс A'''\n",
        "    def set_a(self, value):\n",
        "        self.a = value\n",
        "    \n",
        "    def get_a(self):\n",
        "        return self.a\n",
        "\n",
        "print(A.__doc__)\n",
        "\n",
        "a1 = A()\n",
        "a1.set_a(10)\n",
        "print(a1.get_a())  \n",
        "\n",
        "a2 = A()\n",
        "a2.a = 20\n",
        "print(a2.a)"
      ],
      "metadata": {
        "colab": {
          "base_uri": "https://localhost:8080/"
        },
        "id": "az8pwH9X04tA",
        "outputId": "645341a5-cfe0-45de-c634-374c6ca315b3"
      },
      "execution_count": 4,
      "outputs": [
        {
          "output_type": "stream",
          "name": "stdout",
          "text": [
            "Класс A\n",
            "10\n",
            "20\n"
          ]
        }
      ]
    },
    {
      "cell_type": "markdown",
      "source": [
        "**ЗАДАНИЕ 4**"
      ],
      "metadata": {
        "id": "omn1nqkwZdRL"
      }
    },
    {
      "cell_type": "code",
      "source": [
        "class B:\n",
        "    '''Класс B'''\n",
        "    \n",
        "    def __init__(self, b):\n",
        "        self.b = b\n",
        "    \n",
        "    def get_b(self):\n",
        "        return self.b\n",
        "\n",
        "obj = B(10)\n",
        "\n",
        "print(obj.get_b())"
      ],
      "metadata": {
        "colab": {
          "base_uri": "https://localhost:8080/"
        },
        "id": "5ovppb3CBAnl",
        "outputId": "908fb287-360c-484f-a3d0-45cf2a65097e"
      },
      "execution_count": 5,
      "outputs": [
        {
          "output_type": "stream",
          "name": "stdout",
          "text": [
            "10\n"
          ]
        }
      ]
    },
    {
      "cell_type": "markdown",
      "source": [
        "**ЗАДАНИЕ 5**"
      ],
      "metadata": {
        "id": "XOLz2HYxZtl9"
      }
    },
    {
      "cell_type": "code",
      "source": [
        "class A:\n",
        "    '''Класс A'''\n",
        "\n",
        "    def __init__(self, a):\n",
        "        self.set_a(a)\n",
        "\n",
        "    def set_a(self, a):\n",
        "        self.a = a\n",
        "\n",
        "    def get_a(self):\n",
        "        return self.a\n",
        "\n",
        "\n",
        "class B:\n",
        "    '''Класс B'''\n",
        "\n",
        "    def __init__(self, b):\n",
        "        self.b = b\n",
        "\n",
        "    def get_b(self):\n",
        "        return self.b\n",
        "\n",
        "\n",
        "class C(A, B):\n",
        "    '''Класс C = A + B'''\n",
        "\n",
        "    def __init__(self, a, b, c):\n",
        "        super().__init__(a)\n",
        "        B.__init__(self, b)\n",
        "        self.set_c(c)\n",
        "\n",
        "    def set_b(self, b):\n",
        "        self.b = b\n",
        "\n",
        "    def set_c(self, c):\n",
        "        self.c = c\n",
        "\n",
        "    def get_c(self):\n",
        "        return self.c\n",
        "\n",
        "print(C.__doc__)\n",
        "\n",
        "obj = C(1, 2, 3)\n",
        "\n",
        "print(obj.get_a())\n",
        "print(obj.get_b())\n",
        "print(obj.get_c())"
      ],
      "metadata": {
        "colab": {
          "base_uri": "https://localhost:8080/"
        },
        "id": "kYP_P-0Z_YSU",
        "outputId": "7af012ee-13d5-4521-ffc7-da3522487211"
      },
      "execution_count": null,
      "outputs": [
        {
          "output_type": "stream",
          "name": "stdout",
          "text": [
            "Класс C = A + B\n",
            "1\n",
            "2\n",
            "3\n"
          ]
        }
      ]
    },
    {
      "cell_type": "markdown",
      "source": [
        "**ЗАДАНИЕ 6**"
      ],
      "metadata": {
        "id": "Y2ZYapyVZ2SS"
      }
    },
    {
      "cell_type": "code",
      "source": [
        "class D:\n",
        "    def __init__(self, a, b, c):\n",
        "        self.a = a\n",
        "        self.b = b\n",
        "        self.c = c\n",
        "\n",
        "    @staticmethod\n",
        "    def stat_print_dict(obj):\n",
        "        print(obj.__dict__)\n",
        "\n",
        "    @classmethod\n",
        "    def cls_print_dict(cls):\n",
        "        print(cls.__dict__)\n",
        "\n",
        "obj = D(1, 2, 3)\n",
        "\n",
        "obj.stat_print_dict(obj)\n",
        "\n",
        "D.cls_print_dict()"
      ],
      "metadata": {
        "colab": {
          "base_uri": "https://localhost:8080/"
        },
        "id": "XGtEyf5OB8VT",
        "outputId": "126e18a6-8fc8-4bca-df37-f278614028cd"
      },
      "execution_count": 6,
      "outputs": [
        {
          "output_type": "stream",
          "name": "stdout",
          "text": [
            "{'a': 1, 'b': 2, 'c': 3}\n",
            "{'__module__': '__main__', '__init__': <function D.__init__ at 0x7f79b17c8f70>, 'stat_print_dict': <staticmethod object at 0x7f79b1c7a790>, 'cls_print_dict': <classmethod object at 0x7f79b1c7a0a0>, '__dict__': <attribute '__dict__' of 'D' objects>, '__weakref__': <attribute '__weakref__' of 'D' objects>, '__doc__': None}\n"
          ]
        }
      ]
    },
    {
      "cell_type": "markdown",
      "source": [
        "**ЗАДАНИЕ 7**"
      ],
      "metadata": {
        "id": "ntx5Pt4SZ-Zl"
      }
    },
    {
      "cell_type": "code",
      "source": [
        "class D:\n",
        "    a = 1\n",
        "    b = 'Hello'\n",
        "\n",
        "    @staticmethod\n",
        "    def stat_print_dict(obj):\n",
        "        print(obj.__dict__)\n",
        "\n",
        "    @classmethod\n",
        "    def cls_print_dict(cls):\n",
        "        print(cls.__dict__)\n",
        "\n",
        "class E(D):\n",
        "    e = 'Класс E'\n",
        "\n",
        "obj_1 = D()\n",
        "\n",
        "obj_1.stat_print_dict(obj_1)\n",
        "obj_1.cls_print_dict()\n",
        "\n",
        "obj_2 = E()\n",
        "\n",
        "obj_2.stat_print_dict(obj_2)\n",
        "obj_2.cls_print_dict()"
      ],
      "metadata": {
        "colab": {
          "base_uri": "https://localhost:8080/"
        },
        "id": "7F8Jon60Cu4-",
        "outputId": "a8436ff4-6cc0-4254-b699-ed9cef933987"
      },
      "execution_count": 7,
      "outputs": [
        {
          "output_type": "stream",
          "name": "stdout",
          "text": [
            "{}\n",
            "{'__module__': '__main__', 'a': 1, 'b': 'Hello', 'stat_print_dict': <staticmethod object at 0x7f79b1bafd30>, 'cls_print_dict': <classmethod object at 0x7f79b1bafbe0>, '__dict__': <attribute '__dict__' of 'D' objects>, '__weakref__': <attribute '__weakref__' of 'D' objects>, '__doc__': None}\n",
            "{}\n",
            "{'__module__': '__main__', 'e': 'Класс E', '__doc__': None}\n"
          ]
        }
      ]
    },
    {
      "cell_type": "markdown",
      "source": [
        "**ЗАДАНИЕ 8**"
      ],
      "metadata": {
        "id": "t04NtuVphhxr"
      }
    },
    {
      "cell_type": "code",
      "source": [
        "class F(A):\n",
        "    def __init__(self, a, b):\n",
        "        super().__init__(a)\n",
        "        self.b = b\n",
        "\n",
        "    def set_a(self, value):\n",
        "       \n",
        "        super().set_a(value)\n",
        "        print('Атрибут a установлен!')\n",
        "\n",
        "F_obj = F(1, 2)\n",
        "\n",
        "print(obj.__doc__)\n",
        "\n",
        "obj.set_a(10)\n",
        "print(obj.get_a())"
      ],
      "metadata": {
        "id": "y0dYtF04DQxQ"
      },
      "execution_count": null,
      "outputs": []
    },
    {
      "cell_type": "markdown",
      "source": [
        "**ЗАДАНИЕ 9**"
      ],
      "metadata": {
        "id": "u7F4fu7kacV7"
      }
    },
    {
      "cell_type": "code",
      "source": [
        "class Counter:\n",
        "    def __init__(self, start=0, min_val=0, max_val=10):\n",
        "        self.start = start\n",
        "        self.min_val = min_val\n",
        "        self.max_val = max_val\n",
        "        self.current_val = start\n",
        "    \n",
        "    def set_values(self, start=None, min_val=None, max_val=None):\n",
        "        if start is not None:\n",
        "            self.start = start\n",
        "            self.current_val = start\n",
        "        if min_val is not None:\n",
        "            self.min_val = min_val\n",
        "        if max_val is not None:\n",
        "            self.max_val = max_val\n",
        "    \n",
        "    def increment(self, step=1):\n",
        "        new_val = self.current_val + step\n",
        "        if new_val > self.max_val:\n",
        "            self.current_val = self.max_val\n",
        "            print(\"Error: Counter value exceeded maximum limit!\")\n",
        "        else:\n",
        "            self.current_val = new_val\n",
        "            print(\"Counter value incremented!\")\n",
        "    \n",
        "    def decrement(self, step=1):\n",
        "        new_val = self.current_val - step\n",
        "        if new_val < self.min_val:\n",
        "            self.current_val = self.min_val\n",
        "            print(\"Error: Counter value below minimum limit!\")\n",
        "        else:\n",
        "            self.current_val = new_val\n",
        "            print(\"Counter value decremented!\")\n",
        "\n",
        "counter = Counter()\n",
        "print(\"Counter values (default): start={}, min_val={}, max_val={}, current_val={}\"\n",
        "      .format(counter.start, counter.min_val, counter.max_val, counter.current_val))\n",
        "\n",
        "print(\"\\nIncrementing counter within range:\")\n",
        "for i in range(counter.start, counter.max_val+1):\n",
        "    counter.increment()\n",
        "    print(\"Current counter value:\", counter.current_val)\n",
        "\n",
        "counter.set_values(start=5, min_val=-10, max_val=10)\n",
        "print(\"\\nCounter values (updated): start={}, min_val={}, max_val={}, current_val={}\"\n",
        "      .format(counter.start, counter.min_val, counter.max_val, counter.current_val))\n",
        "\n",
        "print(\"\\nDecrementing counter within range:\")\n",
        "for i in range(counter.start, counter.min_val-1, -1):\n",
        "    counter.decrement()\n",
        "    print(\"Current counter value:\", counter.current_val)"
      ],
      "metadata": {
        "colab": {
          "base_uri": "https://localhost:8080/"
        },
        "id": "H9XJipMnEGtP",
        "outputId": "f60a8d71-8523-4172-9c7c-f4b735d88b43"
      },
      "execution_count": 10,
      "outputs": [
        {
          "output_type": "stream",
          "name": "stdout",
          "text": [
            "Counter values (default): start=0, min_val=0, max_val=10, current_val=0\n",
            "\n",
            "Incrementing counter within range:\n",
            "Counter value incremented!\n",
            "Current counter value: 1\n",
            "Counter value incremented!\n",
            "Current counter value: 2\n",
            "Counter value incremented!\n",
            "Current counter value: 3\n",
            "Counter value incremented!\n",
            "Current counter value: 4\n",
            "Counter value incremented!\n",
            "Current counter value: 5\n",
            "Counter value incremented!\n",
            "Current counter value: 6\n",
            "Counter value incremented!\n",
            "Current counter value: 7\n",
            "Counter value incremented!\n",
            "Current counter value: 8\n",
            "Counter value incremented!\n",
            "Current counter value: 9\n",
            "Counter value incremented!\n",
            "Current counter value: 10\n",
            "Error: Counter value exceeded maximum limit!\n",
            "Current counter value: 10\n",
            "\n",
            "Counter values (updated): start=5, min_val=-10, max_val=10, current_val=5\n",
            "\n",
            "Decrementing counter within range:\n",
            "Counter value decremented!\n",
            "Current counter value: 4\n",
            "Counter value decremented!\n",
            "Current counter value: 3\n",
            "Counter value decremented!\n",
            "Current counter value: 2\n",
            "Counter value decremented!\n",
            "Current counter value: 1\n",
            "Counter value decremented!\n",
            "Current counter value: 0\n",
            "Counter value decremented!\n",
            "Current counter value: -1\n",
            "Counter value decremented!\n",
            "Current counter value: -2\n",
            "Counter value decremented!\n",
            "Current counter value: -3\n",
            "Counter value decremented!\n",
            "Current counter value: -4\n",
            "Counter value decremented!\n",
            "Current counter value: -5\n",
            "Counter value decremented!\n",
            "Current counter value: -6\n",
            "Counter value decremented!\n",
            "Current counter value: -7\n",
            "Counter value decremented!\n",
            "Current counter value: -8\n",
            "Counter value decremented!\n",
            "Current counter value: -9\n",
            "Counter value decremented!\n",
            "Current counter value: -10\n",
            "Error: Counter value below minimum limit!\n",
            "Current counter value: -10\n"
          ]
        }
      ]
    },
    {
      "cell_type": "markdown",
      "source": [
        "**ЗАДАНИЕ 10**"
      ],
      "metadata": {
        "id": "YMr9X-Jeaqb1"
      }
    },
    {
      "cell_type": "code",
      "source": [
        "import math\n",
        "\n",
        "class Circle:\n",
        "    cm_in_m = 100\n",
        "\n",
        "    @staticmethod\n",
        "    def convert_length(length, unit):\n",
        "        \"\"\"\n",
        "        Статический метод для перевода метров в сантиметры или наоборот\n",
        "\n",
        "        :param length: длина в метрах или сантиметрах\n",
        "        :param unit: единица измерения ('m' для метров, 'cm' для сантиметров)\n",
        "        :return: длина в противоположной единице измерения\n",
        "        \"\"\"\n",
        "        if unit == 'm':\n",
        "            return length * Circle.cm_in_m\n",
        "        elif unit == 'cm':\n",
        "            return length / Circle.cm_in_m\n",
        "        else:\n",
        "            raise ValueError(\"Invalid unit: {}. Use 'm' or 'cm'\".format(unit))\n",
        "\n",
        "    def __init__(self, radius):\n",
        "        \"\"\"\n",
        "        Конструктор, инициализирующий радиус окружности\n",
        "\n",
        "        :param radius: радиус окружности\n",
        "        \"\"\"\n",
        "        self.radius = radius\n",
        "\n",
        "    def get_length(self):\n",
        "        \"\"\"\n",
        "        Метод для получения длины окружности\n",
        "\n",
        "        :return: длина окружности\n",
        "        \"\"\"\n",
        "        return 2 * math.pi * self.radius\n",
        "\n",
        "    def get_area(self):\n",
        "        \"\"\"\n",
        "        Метод для получения площади окружности\n",
        "\n",
        "        :return: площадь окружности\n",
        "        \"\"\"\n",
        "        return math.pi * self.radius ** 2\n",
        "\n",
        "radius = 2.55  \n",
        "circle = Circle(radius)\n",
        "\n",
        "length_cm = Circle.convert_length(circle.get_length(), 'm')\n",
        "area_cm2 = Circle.convert_length(circle.get_area(), 'm') ** 2\n",
        "print(\"Длина окружности: {:.2f} см\".format(length_cm))\n",
        "print(\"Площадь окружности: {:.2f} кв. см\".format(area_cm2))"
      ],
      "metadata": {
        "colab": {
          "base_uri": "https://localhost:8080/"
        },
        "id": "IQ_yW28KEzoc",
        "outputId": "66126be7-f27b-4ab1-81fc-5aa4b2d88c57"
      },
      "execution_count": 12,
      "outputs": [
        {
          "output_type": "stream",
          "name": "stdout",
          "text": [
            "Длина окружности: 1602.21 см\n",
            "Площадь окружности: 4173116.10 кв. см\n"
          ]
        }
      ]
    },
    {
      "cell_type": "markdown",
      "source": [
        "**ЗАДАНИЕ 11**"
      ],
      "metadata": {
        "id": "rl9wiFCbbXtn"
      }
    },
    {
      "cell_type": "code",
      "source": [
        "class A:\n",
        "    def plus(self, a, b):\n",
        "        res = a + b\n",
        "        self.last_res = [a, b, res]\n",
        "        return res\n",
        "\n",
        "class B:\n",
        "    def minus(self, a, b):\n",
        "        res = a - b\n",
        "        self.last_res = [a, b, res]\n",
        "        return res\n",
        "\n",
        "class C:\n",
        "    def __init__(self):\n",
        "        self.plus_obj = A()\n",
        "        self.minus_obj = B()\n",
        "\n",
        "obj = C()\n",
        "\n",
        "a = 5\n",
        "b = 3\n",
        "\n",
        "print(obj.plus_obj.plus(a, b))\n",
        "print(obj.plus_obj.last_res)\n",
        "\n",
        "print(obj.minus_obj.minus(a, b))\n",
        "print(obj.minus_obj.last_res)"
      ],
      "metadata": {
        "colab": {
          "base_uri": "https://localhost:8080/"
        },
        "id": "dTVzLvKKFiNk",
        "outputId": "289a36ab-725c-4f79-939f-e8a7f200807b"
      },
      "execution_count": 13,
      "outputs": [
        {
          "output_type": "stream",
          "name": "stdout",
          "text": [
            "8\n",
            "[5, 3, 8]\n",
            "2\n",
            "[5, 3, 2]\n"
          ]
        }
      ]
    },
    {
      "cell_type": "markdown",
      "source": [
        "**ЗАДАНИЕ 12**"
      ],
      "metadata": {
        "id": "PMNE8eGTbfiX"
      }
    },
    {
      "cell_type": "code",
      "source": [
        "class Сотрудник:\n",
        "    def __init__(self, имя, должность=None, оклад=0):\n",
        "        self.имя = имя\n",
        "        self.должность = должность\n",
        "        self.оклад = оклад\n",
        "\n",
        "    def повысить_оклад(self, насколько):\n",
        "        self.оклад = round(self.оклад * (1 + насколько), 2)\n",
        "\n",
        "    def __str__(self):\n",
        "        return f\"Имя: {self.имя}\\nДолжность: {self.должность}\\nОклад: {self.оклад}\"\n",
        "\n",
        "\n",
        "class Менеджер(Сотрудник):\n",
        "    def повысить_оклад(self, насколько):\n",
        "        бонус = self.оклад * 0.25\n",
        "        self.оклад = round(self.оклад * (1 + насколько + бонус), 2)\n",
        "\n",
        "\n",
        "иван_менеджер = Менеджер(\"Иван\", \"менеджер\", 1700)\n",
        "иван_менеджер.повысить_оклад(0.335)\n",
        "print(иван_менеджер)"
      ],
      "metadata": {
        "colab": {
          "base_uri": "https://localhost:8080/"
        },
        "id": "VpMwpXCLFyqY",
        "outputId": "d29e6091-f2f0-45e1-a38e-bba645ceab54"
      },
      "execution_count": 14,
      "outputs": [
        {
          "output_type": "stream",
          "name": "stdout",
          "text": [
            "Имя: Иван\n",
            "Должность: менеджер\n",
            "Оклад: 724769.5\n"
          ]
        }
      ]
    }
  ]
}