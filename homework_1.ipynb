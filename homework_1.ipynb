{
  "nbformat": 4,
  "nbformat_minor": 0,
  "metadata": {
    "colab": {
      "provenance": []
    },
    "kernelspec": {
      "name": "python3",
      "display_name": "Python 3"
    },
    "language_info": {
      "name": "python"
    }
  },
  "cells": [
    {
      "cell_type": "markdown",
      "source": [
        "Программа №1. "
      ],
      "metadata": {
        "id": "LrGEClrD2mll"
      }
    },
    {
      "cell_type": "code",
      "execution_count": null,
      "metadata": {
        "id": "0JEJy03TjKnn"
      },
      "outputs": [],
      "source": [
        "name_user = input('What is your name? ')\n",
        "age_user = input('How old are you? ')\n",
        "city_user = input('Where do you live? ')\n",
        "print(f'This is {name_user}. He/She is {age_user}. He/She lives in {city_user}')"
      ]
    },
    {
      "cell_type": "markdown",
      "source": [
        "Программа №2."
      ],
      "metadata": {
        "id": "oHfw9JZL2tLi"
      }
    },
    {
      "cell_type": "code",
      "source": [
        "print(\"Solve the example: 4 * 100 - 54 \")\n",
        "a = int(input(\"your answer is? \"))\n",
        "correct = 4 * 100 - 54\n",
        "print(\"correct answer: \" + str(correct))\n",
        "print(\"your answer: \" + str(a))"
      ],
      "metadata": {
        "id": "c8dDqEoljLiF"
      },
      "execution_count": null,
      "outputs": []
    },
    {
      "cell_type": "markdown",
      "source": [
        "Программа №3."
      ],
      "metadata": {
        "id": "GoT0pnk-2v2w"
      }
    },
    {
      "cell_type": "code",
      "source": [
        "print(\"enter value for a: \")\n",
        "a = int(input())\n",
        "print(\"enter value for b: \")\n",
        "b = int(input())\n",
        "print(\"enter value for c: \")\n",
        "c = int(input())\n",
        "print(\"enter value for d: \")\n",
        "d = int(input())\n",
        "print(\"result: %.2f\" % ((a+b)/(c+d)) )"
      ],
      "metadata": {
        "id": "QHPU91hUoq1x"
      },
      "execution_count": null,
      "outputs": []
    }
  ]
}