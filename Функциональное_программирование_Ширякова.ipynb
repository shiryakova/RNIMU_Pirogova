{
  "nbformat": 4,
  "nbformat_minor": 0,
  "metadata": {
    "colab": {
      "provenance": []
    },
    "kernelspec": {
      "name": "python3",
      "display_name": "Python 3"
    },
    "language_info": {
      "name": "python"
    }
  },
  "cells": [
    {
      "cell_type": "markdown",
      "source": [
        "**ЗАДАНИЕ 1**\n",
        "\n",
        "Есть список a = [1, 1, 2, 3, 5, 8, 13, 21, 34, 55, 89].\n",
        "Выведите все элементы, которые меньше 5.\n",
        "Предоставьте два варианта решения: с помощью функции filter() и с помощью спискового включения."
      ],
      "metadata": {
        "id": "vnIdmFz5gtqk"
      }
    },
    {
      "cell_type": "code",
      "source": [
        "#способ 1 (фильтр)\n",
        "a = [1, 1, 2, 3, 5, 8, 13, 21, 34, 55, 89] \n",
        "print(*filter(lambda x: x < 5, a))"
      ],
      "metadata": {
        "colab": {
          "base_uri": "https://localhost:8080/"
        },
        "id": "GpL5ohNI-Kpc",
        "outputId": "8dd1f2a5-b6e6-44bd-b155-0d2ead48da98"
      },
      "execution_count": null,
      "outputs": [
        {
          "output_type": "stream",
          "name": "stdout",
          "text": [
            "1 1 2 3\n"
          ]
        }
      ]
    },
    {
      "cell_type": "code",
      "source": [
        "#способ 2 (списковое включение)\n",
        "a = [1, 1, 2, 3, 5, 8, 13, 21, 34, 55, 89] \n",
        "print([elem for elem in a if elem < 5])"
      ],
      "metadata": {
        "colab": {
          "base_uri": "https://localhost:8080/"
        },
        "id": "HsG0pW6FEG7C",
        "outputId": "3d34fc57-93b3-4f0a-de64-0360ea385aaf"
      },
      "execution_count": null,
      "outputs": [
        {
          "output_type": "stream",
          "name": "stdout",
          "text": [
            "[1, 1, 2, 3]\n"
          ]
        }
      ]
    },
    {
      "cell_type": "markdown",
      "source": [
        "**ЗАДАНИЕ 2**\n",
        "\n",
        "Даны списки:\n",
        "a = [1, 1, 2, 3, 5, 8, 13, 21, 34, 55, 89];\n",
        "b = [1, 2, 3, 4, 5, 6, 7, 8, 9, 10, 11, 12, 13].\n",
        "Нужно вернуть список, который состоит из элементов, общих для этих двух списков.\n",
        "Предоставьте два варианта решения: с помощью функции filter() и с помощью\n",
        "спискового включения."
      ],
      "metadata": {
        "id": "TfM2e2WXheOD"
      }
    },
    {
      "cell_type": "code",
      "source": [
        "#способ 1 (фильтр)\n",
        "a = [1, 1, 2, 3, 5, 8, 13, 21, 34, 55, 89]\n",
        "b = [1, 2, 3, 4, 5, 6, 7, 8, 9, 10, 11, 12, 13]\n",
        "print(*filter(lambda elem: elem in b, a))"
      ],
      "metadata": {
        "colab": {
          "base_uri": "https://localhost:8080/"
        },
        "id": "OXhmmyRv-Kq-",
        "outputId": "2838d0fe-b2b5-44c5-c6bd-27a858ed01c1"
      },
      "execution_count": null,
      "outputs": [
        {
          "output_type": "stream",
          "name": "stdout",
          "text": [
            "1 1 2 3 5 8 13\n"
          ]
        }
      ]
    },
    {
      "cell_type": "code",
      "source": [
        "#способ 2 (списковое включение)\n",
        "a = [1, 1, 2, 3, 5, 8, 13, 21, 34, 55, 89]\n",
        "b = [1, 2, 3, 4, 5, 6, 7, 8, 9, 10, 11, 12, 13]\n",
        "\n",
        "print([elem for elem in a if elem in b])"
      ],
      "metadata": {
        "id": "U-EELnk0EXtr",
        "colab": {
          "base_uri": "https://localhost:8080/"
        },
        "outputId": "cdedfb53-a5aa-4e7b-836c-4e6e0d549209"
      },
      "execution_count": null,
      "outputs": [
        {
          "output_type": "stream",
          "name": "stdout",
          "text": [
            "[1, 1, 2, 3, 5, 8, 13]\n"
          ]
        }
      ]
    },
    {
      "cell_type": "markdown",
      "source": [
        "**ЗАДАНИЕ 3**\n",
        "\n",
        "Нужно вывести первые n строк треугольника Паскаля. В этом треугольнике на\n",
        "вершине и по бокам стоят единицы, а каждое число внутри равно сумме двух\n",
        "расположенных над ним чисел."
      ],
      "metadata": {
        "id": "oqPKEhS5inAs"
      }
    },
    {
      "cell_type": "code",
      "source": [
        "def pascal_triangle(n):\n",
        "   row = [1]\n",
        "   y = [0]\n",
        "   for x in range(max(n, 0)):\n",
        "      print(row)\n",
        "      row = [left + right for left, right in zip(row + y, y + row)]\n",
        "\n",
        "pascal_triangle(14)"
      ],
      "metadata": {
        "id": "6svkDTiqi1so",
        "outputId": "93740b01-6491-40a5-d3e9-5a3cf355ad6d",
        "colab": {
          "base_uri": "https://localhost:8080/"
        }
      },
      "execution_count": null,
      "outputs": [
        {
          "output_type": "stream",
          "name": "stdout",
          "text": [
            "[1]\n",
            "[1, 1]\n",
            "[1, 2, 1]\n",
            "[1, 3, 3, 1]\n",
            "[1, 4, 6, 4, 1]\n",
            "[1, 5, 10, 10, 5, 1]\n",
            "[1, 6, 15, 20, 15, 6, 1]\n",
            "[1, 7, 21, 35, 35, 21, 7, 1]\n",
            "[1, 8, 28, 56, 70, 56, 28, 8, 1]\n",
            "[1, 9, 36, 84, 126, 126, 84, 36, 9, 1]\n",
            "[1, 10, 45, 120, 210, 252, 210, 120, 45, 10, 1]\n",
            "[1, 11, 55, 165, 330, 462, 462, 330, 165, 55, 11, 1]\n",
            "[1, 12, 66, 220, 495, 792, 924, 792, 495, 220, 66, 12, 1]\n",
            "[1, 13, 78, 286, 715, 1287, 1716, 1716, 1287, 715, 286, 78, 13, 1]\n"
          ]
        }
      ]
    },
    {
      "cell_type": "markdown",
      "source": [
        "**ЗАДАНИЕ 4**\n",
        "\n",
        "Напишите проверку на то, является ли строка палиндромом. Палиндром — это слово\n",
        "или фраза, которые одинаково читаются слева направо и справа налево.\n",
        "Напишите для этого отдельную функцию."
      ],
      "metadata": {
        "id": "aSid9uQJipZ5"
      }
    },
    {
      "cell_type": "code",
      "source": [
        "def is_palindrome(string):\n",
        "    return string == ''.join(reversed(string))\n",
        "\n",
        "print(is_palindrome('арбуз у зубра'))"
      ],
      "metadata": {
        "id": "P3dKr8D0kbKP",
        "colab": {
          "base_uri": "https://localhost:8080/"
        },
        "outputId": "6bfb03e3-f550-4ce1-8cf8-d7c9fff12209"
      },
      "execution_count": null,
      "outputs": [
        {
          "output_type": "stream",
          "name": "stdout",
          "text": [
            "True\n"
          ]
        }
      ]
    },
    {
      "cell_type": "markdown",
      "source": [
        "**ЗАДАНИЕ 5**\n",
        "\n",
        "Сделайте так, чтобы переданное программе число секунд отображалось в виде\n",
        "дни:часы:минуты:секунды."
      ],
      "metadata": {
        "id": "AnnEp0srirS-"
      }
    },
    {
      "cell_type": "code",
      "source": [
        "def convert(seconds):\n",
        "    days = seconds // (24 * 3600)\n",
        "    seconds %= 24 * 3600\n",
        "    hours = seconds // 3600\n",
        "    seconds %= 3600\n",
        "    minutes = seconds // 60\n",
        "    seconds %= 60\n",
        "    print(f'{days}:{hours}:{minutes}:{seconds}')\n",
        "\n",
        "convert(2564987)"
      ],
      "metadata": {
        "id": "CZOO1LGHlJp4",
        "colab": {
          "base_uri": "https://localhost:8080/"
        },
        "outputId": "b8e1a455-1afc-442a-d916-942b67fe684e"
      },
      "execution_count": null,
      "outputs": [
        {
          "output_type": "stream",
          "name": "stdout",
          "text": [
            "29:16:29:47\n"
          ]
        }
      ]
    },
    {
      "cell_type": "markdown",
      "source": [
        "**ЗАДАНИЕ 6**\n",
        "\n",
        "Вы принимаете от пользователя последовательность чисел, разделённых запятой.\n",
        "Составьте список и кортеж с этими числами.\n",
        "Используйте в решении функцию map()."
      ],
      "metadata": {
        "id": "IAqXJKaCisz5"
      }
    },
    {
      "cell_type": "code",
      "source": [
        "values = input('Введите числа через запятую: ')\n",
        "ints_as_strings = values.split(',')\n",
        "ints = map(int, ints_as_strings)\n",
        "lst = list(ints)\n",
        "tup = tuple(lst)\n",
        "print('Список:', lst)\n",
        "print('Кортеж:', tup)"
      ],
      "metadata": {
        "colab": {
          "base_uri": "https://localhost:8080/"
        },
        "id": "dECVhvUzmoTS",
        "outputId": "f494b2fb-9ad0-4d3d-e00e-2956181f4179"
      },
      "execution_count": null,
      "outputs": [
        {
          "output_type": "stream",
          "name": "stdout",
          "text": [
            "Введите числа через запятую: 2,0,0,5\n",
            "Список: [2, 0, 0, 5]\n",
            "Кортеж: (2, 0, 0, 5)\n"
          ]
        }
      ]
    },
    {
      "cell_type": "markdown",
      "source": [
        "**ЗАДАНИЕ 7**\n",
        "\n",
        "Напишите программу, которая принимает имя файла и выводит его расширение. Если\n",
        "расширение у файла определить невозможно, выбросите исключение.\n",
        "Напишите для этого отдельную функцию."
      ],
      "metadata": {
        "id": "4itfbFmniuAr"
      }
    },
    {
      "cell_type": "code",
      "source": [
        "a = input()\n",
        "print(a[a.rfind('.') + 1:] if '.' in a else 'Попробуйте, пожалуйста, еще раз!')"
      ],
      "metadata": {
        "id": "VVWaTcDlnYEo",
        "colab": {
          "base_uri": "https://localhost:8080/"
        },
        "outputId": "dcb9196d-125a-47f1-f373-c667fe4b5026"
      },
      "execution_count": 11,
      "outputs": [
        {
          "output_type": "stream",
          "name": "stdout",
          "text": [
            "rnimu.py\n",
            "py\n"
          ]
        }
      ]
    },
    {
      "cell_type": "markdown",
      "source": [
        "**ЗАДАНИЕ 8**\n",
        "\n",
        "При заданном целом числе n посчитайте n + nn + nnn.\n",
        "Напишите для этого отдельную функцию."
      ],
      "metadata": {
        "id": "KxWHccJYivTm"
      }
    },
    {
      "cell_type": "code",
      "source": [
        "def solve(n):\n",
        "    n1 = n\n",
        "    n2 = int(str(n) * 2)\n",
        "    n3 = int(str(n) * 3)\n",
        "    print(n1 + n2 + n3)\n",
        "\n",
        "solve(15)"
      ],
      "metadata": {
        "colab": {
          "base_uri": "https://localhost:8080/"
        },
        "id": "DOX72FA2q-oF",
        "outputId": "4c6d9f34-8bbf-4e31-aa8a-82dab2596781"
      },
      "execution_count": null,
      "outputs": [
        {
          "output_type": "stream",
          "name": "stdout",
          "text": [
            "153045\n"
          ]
        }
      ]
    },
    {
      "cell_type": "markdown",
      "source": [
        "**ЗАДАНИЕ 9**\n",
        "\n",
        "Сложите цифры целого числа.\n",
        "Напишите для этого отдельную функцию."
      ],
      "metadata": {
        "id": "hgJn6Gmkix4l"
      }
    },
    {
      "cell_type": "code",
      "source": [
        "def sum_digits(num):\n",
        "    digits = [int(d) for d in str(num)]\n",
        "    return sum(digits)\n",
        "\n",
        "print(sum_digits(123456789))"
      ],
      "metadata": {
        "colab": {
          "base_uri": "https://localhost:8080/"
        },
        "id": "GoeZBQkFrbWK",
        "outputId": "e986ce58-875b-405c-edc9-2af597596256"
      },
      "execution_count": null,
      "outputs": [
        {
          "output_type": "stream",
          "name": "stdout",
          "text": [
            "45\n"
          ]
        }
      ]
    },
    {
      "cell_type": "markdown",
      "source": [
        "**ЗАДАНИЕ 10**\n",
        "\n",
        "С помощью анонимной функции извлеките из списка числа, делимые на 15."
      ],
      "metadata": {
        "id": "tIZB1enfiy89"
      }
    },
    {
      "cell_type": "code",
      "source": [
        "nums = [5, 15, 30, 35, 45, 50, 60]\n",
        "result = list(filter(lambda x: not x % 15, nums))\n",
        "print(\"Numbers divisible by 15 are\",result)"
      ],
      "metadata": {
        "colab": {
          "base_uri": "https://localhost:8080/"
        },
        "id": "E2dKf2HSrcMa",
        "outputId": "383c0023-aa6f-48b8-9eb1-5b4f4fdc568d"
      },
      "execution_count": null,
      "outputs": [
        {
          "output_type": "stream",
          "name": "stdout",
          "text": [
            "Numbers divisible by 15 are [15, 30, 45, 60]\n"
          ]
        }
      ]
    },
    {
      "cell_type": "markdown",
      "source": [
        "**ЗАДАНИЕ 11**\n",
        "\n",
        "Нужно проверить, все ли числа в последовательности уникальны.\n",
        "Напишите для этого отдельную функцию."
      ],
      "metadata": {
        "id": "Wapx4nv9i0G2"
      }
    },
    {
      "cell_type": "code",
      "source": [
        "def f(a): return len(a) == len(set(a))\n",
        "print(f( [1, 25, 3, 31, 4, 5] ))"
      ],
      "metadata": {
        "colab": {
          "base_uri": "https://localhost:8080/"
        },
        "id": "Hv4ymh3atKzJ",
        "outputId": "a4384a40-acf4-4242-9870-9c3fc09c5565"
      },
      "execution_count": null,
      "outputs": [
        {
          "output_type": "stream",
          "name": "stdout",
          "text": [
            "True\n"
          ]
        }
      ]
    }
  ]
}